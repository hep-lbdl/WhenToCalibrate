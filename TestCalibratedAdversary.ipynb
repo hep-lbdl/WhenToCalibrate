{
 "cells": [
  {
   "cell_type": "markdown",
   "metadata": {},
   "source": [
    "Idea: Show the tradeoffs between explicitly depending on (+ profiling) and removing dependence on a given systematic uncertainty using the ideas from [1601.07913](https://arxiv.org/pdf/1601.07913.pdf) and [1611.01046](https://arxiv.org/pdf/1611.01046.pdf) (code is [here](https://github.com/glouppe/paper-learning-to-pivot/blob/master/code/Toy.ipynb))."
   ]
  },
  {
   "cell_type": "code",
   "execution_count": 1,
   "metadata": {},
   "outputs": [
    {
     "name": "stderr",
     "output_type": "stream",
     "text": [
      "/public/apps/anaconda3/5.0.1/envs/fair_env/lib/python3.6/site-packages/h5py/__init__.py:36: FutureWarning: Conversion of the second argument of issubdtype from `float` to `np.floating` is deprecated. In future, it will be treated as `np.float64 == np.dtype(float).type`.\n",
      "  from ._conv import register_converters as _register_converters\n",
      "Using TensorFlow backend.\n"
     ]
    }
   ],
   "source": [
    "import numpy as np\n",
    "import keras.backend as K\n",
    "from keras.layers import Input, Dense, Lambda\n",
    "from keras.models import Model, Sequential\n",
    "import matplotlib.pyplot as plt\n",
    "from sklearn.metrics import roc_curve"
   ]
  },
  {
   "cell_type": "markdown",
   "metadata": {},
   "source": [
    "First, let's generate some toy data."
   ]
  },
  {
   "cell_type": "code",
   "execution_count": 19,
   "metadata": {},
   "outputs": [],
   "source": [
    "N = 10000\n",
    "N2 = int(N/2)\n",
    "sigma = 0.25\n",
    "signals = {} # dict of mean : list of random draws from N(+-mean, sigma)\n",
    "backgrounds = {} # dict of one element, 0 : list of random draws from N(0, sigma)\n",
    "signal_tot = [] # numpy.ndarray of entries [draw, mean]\n",
    "background_tot = [] # numpy.ndarray of entries [draw from N(0, sigma), mean of signal]\n",
    "means = [0, 0.5, 1, 1.5, 2]\n",
    "for mean in means:\n",
    "    signal = list(zip(np.random.normal(-mean, sigma, N2), mean * np.ones(N2)))\n",
    "    signal += list(zip(np.random.normal(mean, sigma, N2), mean * np.ones(N2)))\n",
    "\n",
    "    background = list(zip(np.random.normal(0, sigma, N), mean * np.ones(N)))\n",
    "    #signals[mean]=np.random.normal(-mean,sigma,N2)\n",
    "    signals[mean] = np.concatenate((\n",
    "        np.random.normal(-mean, sigma, N2),\n",
    "        np.random.normal(mean, sigma, N2)\n",
    "    ))\n",
    "\n",
    "    backgrounds[mean] = np.random.normal(0, sigma, N)\n",
    "    \n",
    "    if (len(signal_tot) > 0):\n",
    "        signal_tot = np.concatenate((signal_tot,signal))\n",
    "        background_tot = np.concatenate((background_tot,background))\n",
    "    else:\n",
    "        signal_tot = signal\n",
    "        background_tot = background"
   ]
  },
  {
   "cell_type": "code",
   "execution_count": 41,
   "metadata": {},
   "outputs": [],
   "source": [
    "N = 100000\n",
    "sigma = 0.25\n",
    "signals = {}\n",
    "backgrounds = {}\n",
    "signal_tot = []\n",
    "background_tot = []\n",
    "signal_fractions = [1., 0.8, 0.6, 0.4, 0.2]\n",
    "for fraction in signal_fractions:\n",
    "    signal = list(zip(\n",
    "        np.random.normal(0, sigma, int(N * fraction)),\n",
    "        fraction * np.ones(int(N * fraction))\n",
    "    ))\n",
    "    signal += list(zip(\n",
    "        np.random.uniform(-2, 2, int(N * (1 - fraction))),\n",
    "        fraction * np.ones(int(N * (1 - fraction)))\n",
    "    ))\n",
    "    background = list(zip(\n",
    "        np.random.uniform(-2, 2, N),\n",
    "        fraction * np.ones(N)\n",
    "    ))\n",
    "    signals[fraction] = np.concatenate((\n",
    "        np.random.normal(0, sigma, int(N * fraction)),\n",
    "        np.random.uniform(-2, 2, int(N * (1 - fraction)))\n",
    "    ))\n",
    "    backgrounds[fraction] = np.random.uniform(-2, 2, N)\n",
    "    if (len(signal_tot) > 0):\n",
    "        signal_tot = np.concatenate((signal_tot, signal))\n",
    "        background_tot = np.concatenate((background_tot, background))\n",
    "    else:\n",
    "        signal_tot = signal\n",
    "        background_tot = background"
   ]
  },
  {
   "cell_type": "code",
   "execution_count": 71,
   "metadata": {},
   "outputs": [
    {
     "data": {
      "text/plain": [
       "<matplotlib.legend.Legend at 0x7f875c8cec18>"
      ]
     },
     "execution_count": 71,
     "metadata": {},
     "output_type": "execute_result"
    },
    {
     "data": {
      "image/png": "[encoded data removed]",
      "text/plain": [
       "<Figure size 432x288 with 1 Axes>"
      ]
     },
     "metadata": {},
     "output_type": "display_data"
    }
   ],
   "source": [
    "colors=['b','g','r','c','m']\n",
    "for i in range(len(signals)):\n",
    "    _ = plt.hist(\n",
    "        signals[signal_fractions[i]],\n",
    "        bins=np.arange(-2,2,0.1),\n",
    "        color=colors[i],\n",
    "        alpha=0.5,\n",
    "        rwidth=0.85,\n",
    "        density=True,\n",
    "        label=r'$f_s=$' + str(means[i]),\n",
    "        histtype='step'\n",
    "    )\n",
    "\n",
    "# any of the entries in backgrounds would have worked\n",
    "_ = plt.hist(backgrounds[0.2], bins=np.arange(-2,2,0.1), color='y', alpha=0.5, rwidth=0.85, density=True, \n",
    "             label=r'$f_s=0.0$',histtype='step')\n",
    "plt.legend()"
   ]
  },
  {
   "cell_type": "code",
   "execution_count": 43,
   "metadata": {},
   "outputs": [],
   "source": [
    "# create model\n",
    "model = Sequential()\n",
    "model.add(Dense(12, input_dim=2, activation='relu'))\n",
    "model.add(Dense(8, activation='relu'))\n",
    "model.add(Dense(1, activation='sigmoid'))"
   ]
  },
  {
   "cell_type": "code",
   "execution_count": 44,
   "metadata": {},
   "outputs": [],
   "source": [
    "signal_labels = np.ones(len(signal_tot))\n",
    "background_labels = np.zeros(len(background_tot))\n",
    "X = np.concatenate((signal_tot, background_tot))\n",
    "Y = np.concatenate((signal_labels, background_labels))"
   ]
  },
  {
   "cell_type": "code",
   "execution_count": 45,
   "metadata": {},
   "outputs": [],
   "source": [
    "# Compile model\n",
    "model.compile(loss='binary_crossentropy', optimizer='adam', metrics=['accuracy'])"
   ]
  },
  {
   "cell_type": "code",
   "execution_count": 47,
   "metadata": {},
   "outputs": [
    {
     "name": "stdout",
     "output_type": "stream",
     "text": [
      "Epoch 1/2\n",
      "999999/999999 [==============================] - 3s 3us/step - loss: 0.5637 - acc: 0.7097\n",
      "Epoch 2/2\n",
      "999999/999999 [==============================] - 3s 3us/step - loss: 0.5626 - acc: 0.7089\n"
     ]
    },
    {
     "data": {
      "text/plain": [
       "<keras.callbacks.History at 0x7f86dc1921d0>"
      ]
     },
     "execution_count": 47,
     "metadata": {},
     "output_type": "execute_result"
    }
   ],
   "source": [
    "# Fit the model\n",
    "model.fit(X, Y, epochs=2, batch_size=1000)"
   ]
  },
  {
   "cell_type": "code",
   "execution_count": 73,
   "metadata": {},
   "outputs": [
    {
     "data": {
      "image/png": "[encoded data removed]",
      "text/plain": [
       "<Figure size 432x288 with 1 Axes>"
      ]
     },
     "metadata": {},
     "output_type": "display_data"
    }
   ],
   "source": [
    "xvals = np.linspace(-2, 2, 400)  # draws, or events (X)\n",
    "\n",
    "fig, ax = plt.subplots()\n",
    "colors=['b','b','g','g','r','r','c','c','m','m']\n",
    "means2 = [0.5, 0.75, 1., 1.25, 1.5, 1.75, 2., 2.25, 2.5, 2.75]\n",
    "\n",
    "for i in range(len(means2)):\n",
    "    # build test set of (X, \\nu)\n",
    "    xvals2 = list(zip(xvals, means2[i] * np.ones(len(xvals))))\n",
    "    nn_output = model.predict(np.array(xvals2))\n",
    "    if (i%2==1):\n",
    "        ax.plot(xvals, nn_output, color=colors[i], linestyle=':', label=str(means2[i]))\n",
    "    else:\n",
    "        ax.plot(xvals, nn_output, color=colors[i], label=str(means2[i]))\n",
    "\n",
    "plt.xlabel('Value of feature X')\n",
    "plt.ylabel('NN output')\n",
    "_ = plt.legend(ncol=2)"
   ]
  },
  {
   "cell_type": "markdown",
   "metadata": {},
   "source": [
    "Now, let's try with an adversary."
   ]
  },
  {
   "cell_type": "code",
   "execution_count": 18,
   "metadata": {},
   "outputs": [
    {
     "data": {
      "image/png": "[encoded data removed]",
      "text/plain": [
       "<matplotlib.figure.Figure at 0x1a3462e748>"
      ]
     },
     "metadata": {},
     "output_type": "display_data"
    }
   ],
   "source": [
    "colors=['0.2','0.4','0.6','0.8','1.0']\n",
    "means = [0.8,1.]\n",
    "for j in range(len(means)):\n",
    "    mean = means[j]\n",
    "    vals=[]\n",
    "    for i in range(len(signal_tot)):\n",
    "        if (signal_tot[i][1]==mean):\n",
    "            vals+=[signal_tot[i][0]]\n",
    "            pass\n",
    "        pass\n",
    "    vals2 = list(zip(vals,mean*np.ones(len(vals))))\n",
    "    predictions = model.predict(np.array(vals2))\n",
    "    plt.hist(predictions, bins=np.arange(0,1,0.05), color=colors[j], alpha=0.5, rwidth=0.85, density = True)"
   ]
  },
  {
   "cell_type": "markdown",
   "metadata": {},
   "source": [
    "Note: we will have a prior on the nuisance parameter and probably we will want to weight the training samples so that their contribution the loss is proportional to this prior weight (otherwise, the adversary will too harshly penalize extreme examples of the nuisance parameter!)"
   ]
  },
  {
   "cell_type": "code",
   "execution_count": 27,
   "metadata": {},
   "outputs": [],
   "source": [
    "classifier_input = Input((2,))\n",
    "classifier_net = Dense(10,activation='relu')(classifier_input)\n",
    "classifier_output = Dense(1,activation='sigmoid')(classifier_net)\n",
    "\n",
    "adversary_input = Input((10,))\n",
    "adversary_net = Dense(20)(adversary_input)\n",
    "adversary_output = Dense(1)(adversary_net)\n",
    "\n",
    "aux_output = Model(classifier_input, classifier_net)"
   ]
  },
  {
   "cell_type": "code",
   "execution_count": 32,
   "metadata": {},
   "outputs": [],
   "source": [
    "adversary_model = Model(adversary_input, adversary_output)\n",
    "train_classifier_model = Model(\n",
    "    classifier_input, \n",
    "    [classifier_output,adversary_model(aux_output(classifier_input))]\n",
    ")\n",
    "train_adversary_model = Model(\n",
    "    classifier_input, \n",
    "    adversary_model(aux_output(classifier_input))\n",
    ")"
   ]
  },
  {
   "cell_type": "code",
   "execution_count": 34,
   "metadata": {},
   "outputs": [],
   "source": [
    "for layer_index, layer in enumerate(train_classifier_model.layers):\n",
    "    layer.trainable = layer_index < 3"
   ]
  },
  {
   "cell_type": "code",
   "execution_count": 35,
   "metadata": {},
   "outputs": [],
   "source": [
    "train_classifier_model.compile('Adam', loss=['binary_crossentropy','mse'], loss_weights=[1,-1])  "
   ]
  },
  {
   "cell_type": "code",
   "execution_count": 23,
   "metadata": {},
   "outputs": [],
   "source": [
    "for layer_index, layer in enumerate(train_adversary_model.layers):\n",
    "    layer.trainable = layer_index >= 3"
   ]
  },
  {
   "cell_type": "code",
   "execution_count": 24,
   "metadata": {},
   "outputs": [],
   "source": [
    "train_adversary_model.compile('Adam', loss='mse')"
   ]
  },
  {
   "cell_type": "code",
   "execution_count": 33,
   "metadata": {},
   "outputs": [
    {
     "name": "stdout",
     "output_type": "stream",
     "text": [
      "__________________________________________________________________________________________________\n",
      "Layer (type)                    Output Shape         Param #     Connected to                     \n",
      "==================================================================================================\n",
      "input_2 (InputLayer)            (None, 2)            0                                            \n",
      "__________________________________________________________________________________________________\n",
      "dense_8 (Dense)                 (None, 10)           30          input_2[0][0]                    \n",
      "__________________________________________________________________________________________________\n",
      "model_3 (Model)                 (None, 10)           30          input_2[0][0]                    \n",
      "__________________________________________________________________________________________________\n",
      "dense_9 (Dense)                 (None, 1)            11          dense_8[0][0]                    \n",
      "__________________________________________________________________________________________________\n",
      "model_11 (Model)                (None, 1)            241         model_3[5][0]                    \n",
      "==================================================================================================\n",
      "Total params: 282\n",
      "Trainable params: 271\n",
      "Non-trainable params: 11\n",
      "__________________________________________________________________________________________________\n",
      "_________________________________________________________________\n",
      "Layer (type)                 Output Shape              Param #   \n",
      "=================================================================\n",
      "input_2 (InputLayer)         (None, 2)                 0         \n",
      "_________________________________________________________________\n",
      "model_3 (Model)              (None, 10)                30        \n",
      "_________________________________________________________________\n",
      "model_11 (Model)             (None, 1)                 241       \n",
      "=================================================================\n",
      "Total params: 271\n",
      "Trainable params: 271\n",
      "Non-trainable params: 0\n",
      "_________________________________________________________________\n"
     ]
    }
   ],
   "source": [
    "train_classifier_model.summary()\n",
    "train_adversary_model.summary()"
   ]
  },
  {
   "cell_type": "code",
   "execution_count": 314,
   "metadata": {},
   "outputs": [
    {
     "name": "stdout",
     "output_type": "stream",
     "text": [
      "Epoch 1/1\n",
      "100000/100000 [==============================] - 25s 248us/step - loss: -0.3784 - dense_55_loss: 0.2521 - dense_57_loss: 0.6305\n"
     ]
    }
   ],
   "source": [
    "predictions = np.ones(len(X))\n",
    "for i in range(1):\n",
    "    auto_input = X\n",
    "    train_autoencoder_model.fit(X, [Y,predictions], epochs=1, batch_size=10) "
   ]
  },
  {
   "cell_type": "code",
   "execution_count": 315,
   "metadata": {},
   "outputs": [],
   "source": [
    "predictions = train_autoencoder_model.predict(X)"
   ]
  },
  {
   "cell_type": "code",
   "execution_count": 316,
   "metadata": {},
   "outputs": [
    {
     "ename": "ValueError",
     "evalue": "Found input variables with inconsistent numbers of samples: [100000, 2]",
     "output_type": "error",
     "traceback": [
      "\u001b[0;31m---------------------------------------------------------------------------\u001b[0m",
      "\u001b[0;31mValueError\u001b[0m                                Traceback (most recent call last)",
      "\u001b[0;32m<ipython-input-316-73ca3a186776>\u001b[0m in \u001b[0;36m<module>\u001b[0;34m()\u001b[0m\n\u001b[0;32m----> 1\u001b[0;31m \u001b[0mfpr\u001b[0m\u001b[0;34m,\u001b[0m \u001b[0mtpr\u001b[0m\u001b[0;34m,\u001b[0m \u001b[0m_\u001b[0m \u001b[0;34m=\u001b[0m \u001b[0mroc_curve\u001b[0m\u001b[0;34m(\u001b[0m\u001b[0mY\u001b[0m\u001b[0;34m,\u001b[0m \u001b[0mpredictions\u001b[0m\u001b[0;34m)\u001b[0m\u001b[0;34m\u001b[0m\u001b[0m\n\u001b[0m",
      "\u001b[0;32m/usr/local/anaconda3/lib/python3.6/site-packages/sklearn/metrics/ranking.py\u001b[0m in \u001b[0;36mroc_curve\u001b[0;34m(y_true, y_score, pos_label, sample_weight, drop_intermediate)\u001b[0m\n\u001b[1;32m    532\u001b[0m     \"\"\"\n\u001b[1;32m    533\u001b[0m     fps, tps, thresholds = _binary_clf_curve(\n\u001b[0;32m--> 534\u001b[0;31m         y_true, y_score, pos_label=pos_label, sample_weight=sample_weight)\n\u001b[0m\u001b[1;32m    535\u001b[0m \u001b[0;34m\u001b[0m\u001b[0m\n\u001b[1;32m    536\u001b[0m     \u001b[0;31m# Attempt to drop thresholds corresponding to points in between and\u001b[0m\u001b[0;34m\u001b[0m\u001b[0;34m\u001b[0m\u001b[0m\n",
      "\u001b[0;32m/usr/local/anaconda3/lib/python3.6/site-packages/sklearn/metrics/ranking.py\u001b[0m in \u001b[0;36m_binary_clf_curve\u001b[0;34m(y_true, y_score, pos_label, sample_weight)\u001b[0m\n\u001b[1;32m    318\u001b[0m         \u001b[0;32mraise\u001b[0m \u001b[0mValueError\u001b[0m\u001b[0;34m(\u001b[0m\u001b[0;34m\"{0} format is not supported\"\u001b[0m\u001b[0;34m.\u001b[0m\u001b[0mformat\u001b[0m\u001b[0;34m(\u001b[0m\u001b[0my_type\u001b[0m\u001b[0;34m)\u001b[0m\u001b[0;34m)\u001b[0m\u001b[0;34m\u001b[0m\u001b[0m\n\u001b[1;32m    319\u001b[0m \u001b[0;34m\u001b[0m\u001b[0m\n\u001b[0;32m--> 320\u001b[0;31m     \u001b[0mcheck_consistent_length\u001b[0m\u001b[0;34m(\u001b[0m\u001b[0my_true\u001b[0m\u001b[0;34m,\u001b[0m \u001b[0my_score\u001b[0m\u001b[0;34m,\u001b[0m \u001b[0msample_weight\u001b[0m\u001b[0;34m)\u001b[0m\u001b[0;34m\u001b[0m\u001b[0m\n\u001b[0m\u001b[1;32m    321\u001b[0m     \u001b[0my_true\u001b[0m \u001b[0;34m=\u001b[0m \u001b[0mcolumn_or_1d\u001b[0m\u001b[0;34m(\u001b[0m\u001b[0my_true\u001b[0m\u001b[0;34m)\u001b[0m\u001b[0;34m\u001b[0m\u001b[0m\n\u001b[1;32m    322\u001b[0m     \u001b[0my_score\u001b[0m \u001b[0;34m=\u001b[0m \u001b[0mcolumn_or_1d\u001b[0m\u001b[0;34m(\u001b[0m\u001b[0my_score\u001b[0m\u001b[0;34m)\u001b[0m\u001b[0;34m\u001b[0m\u001b[0m\n",
      "\u001b[0;32m/usr/local/anaconda3/lib/python3.6/site-packages/sklearn/utils/validation.py\u001b[0m in \u001b[0;36mcheck_consistent_length\u001b[0;34m(*arrays)\u001b[0m\n\u001b[1;32m    202\u001b[0m     \u001b[0;32mif\u001b[0m \u001b[0mlen\u001b[0m\u001b[0;34m(\u001b[0m\u001b[0muniques\u001b[0m\u001b[0;34m)\u001b[0m \u001b[0;34m>\u001b[0m \u001b[0;36m1\u001b[0m\u001b[0;34m:\u001b[0m\u001b[0;34m\u001b[0m\u001b[0m\n\u001b[1;32m    203\u001b[0m         raise ValueError(\"Found input variables with inconsistent numbers of\"\n\u001b[0;32m--> 204\u001b[0;31m                          \" samples: %r\" % [int(l) for l in lengths])\n\u001b[0m\u001b[1;32m    205\u001b[0m \u001b[0;34m\u001b[0m\u001b[0m\n\u001b[1;32m    206\u001b[0m \u001b[0;34m\u001b[0m\u001b[0m\n",
      "\u001b[0;31mValueError\u001b[0m: Found input variables with inconsistent numbers of samples: [100000, 2]"
     ]
    }
   ],
   "source": [
    "fpr, tpr, _ = roc_curve(Y, predictions)"
   ]
  },
  {
   "cell_type": "code",
   "execution_count": null,
   "metadata": {},
   "outputs": [],
   "source": [
    "plt.plot(fpr, tpr, color='black')"
   ]
  },
  {
   "cell_type": "code",
   "execution_count": 15,
   "metadata": {},
   "outputs": [],
   "source": [
    "predictions = model.predict(X)"
   ]
  },
  {
   "cell_type": "code",
   "execution_count": 16,
   "metadata": {},
   "outputs": [],
   "source": [
    "Q=[x[1] for x in X]"
   ]
  },
  {
   "cell_type": "code",
   "execution_count": 203,
   "metadata": {},
   "outputs": [
    {
     "name": "stdout",
     "output_type": "stream",
     "text": [
      "Epoch 1/2\n",
      "100000/100000 [==============================] - 24s 243us/step - loss: 0.5800 - acc: 0.0000e+00\n",
      "Epoch 2/2\n",
      "100000/100000 [==============================] - 23s 230us/step - loss: 0.5725 - acc: 0.0000e+00\n"
     ]
    },
    {
     "data": {
      "text/plain": [
       "<keras.callbacks.History at 0x1a405b0d30>"
      ]
     },
     "execution_count": 203,
     "metadata": {},
     "output_type": "execute_result"
    }
   ],
   "source": [
    "model2 = Sequential()\n",
    "model2.add(Dense(12, input_dim=1, activation='relu'))\n",
    "model2.add(Dense(8, activation='relu'))\n",
    "model2.add(Dense(1, activation='sigmoid'))\n",
    "model2.compile(loss='binary_crossentropy', optimizer='adam', metrics=['accuracy'])\n",
    "model2.fit(predictions, Q, epochs=2, batch_size=10)"
   ]
  },
  {
   "cell_type": "code",
   "execution_count": 47,
   "metadata": {},
   "outputs": [],
   "source": [
    "predictions2 = model2.predict(predictions)"
   ]
  },
  {
   "cell_type": "code",
   "execution_count": 17,
   "metadata": {},
   "outputs": [
    {
     "data": {
      "text/plain": [
       "<matplotlib.collections.PathCollection at 0x1a346402e8>"
      ]
     },
     "execution_count": 17,
     "metadata": {},
     "output_type": "execute_result"
    },
    {
     "data": {
      "image/png": "[encoded data removed]",
      "text/plain": [
       "<matplotlib.figure.Figure at 0x1a2d4c4dd8>"
      ]
     },
     "metadata": {},
     "output_type": "display_data"
    }
   ],
   "source": [
    "plt.scatter(Q, predictions, color='black')"
   ]
  },
  {
   "cell_type": "code",
   "execution_count": 67,
   "metadata": {},
   "outputs": [
    {
     "data": {
      "text/plain": [
       "array([[2.08864456, 2.        ],\n",
       "       [2.04732793, 2.        ],\n",
       "       [2.00353825, 2.        ],\n",
       "       [2.03120111, 2.        ],\n",
       "       [2.0986137 , 2.        ],\n",
       "       [2.01158578, 2.        ],\n",
       "       [2.04423439, 2.        ],\n",
       "       [2.05681363, 2.        ],\n",
       "       [2.05643823, 2.        ],\n",
       "       [2.09900995, 2.        ],\n",
       "       [2.04191169, 2.        ],\n",
       "       [2.03722017, 2.        ],\n",
       "       [2.05755855, 2.        ],\n",
       "       [2.00996916, 2.        ],\n",
       "       [2.08597499, 2.        ],\n",
       "       [2.0420167 , 2.        ],\n",
       "       [2.09077174, 2.        ],\n",
       "       [2.0022047 , 2.        ],\n",
       "       [2.01107643, 2.        ],\n",
       "       [2.06333735, 2.        ],\n",
       "       [2.07849265, 2.        ],\n",
       "       [2.06599844, 2.        ],\n",
       "       [2.0665012 , 2.        ],\n",
       "       [2.00654708, 2.        ],\n",
       "       [2.07901826, 2.        ],\n",
       "       [2.05325539, 2.        ],\n",
       "       [2.08387296, 2.        ],\n",
       "       [2.04034548, 2.        ],\n",
       "       [2.0849432 , 2.        ],\n",
       "       [2.05865418, 2.        ],\n",
       "       [2.05372135, 2.        ],\n",
       "       [2.01136072, 2.        ],\n",
       "       [2.09551928, 2.        ],\n",
       "       [2.00484817, 2.        ],\n",
       "       [2.04505234, 2.        ],\n",
       "       [2.00299414, 2.        ],\n",
       "       [2.02213637, 2.        ],\n",
       "       [2.01762953, 2.        ],\n",
       "       [2.01562891, 2.        ],\n",
       "       [2.00168598, 2.        ],\n",
       "       [2.00393744, 2.        ],\n",
       "       [2.05371621, 2.        ],\n",
       "       [2.0492161 , 2.        ],\n",
       "       [2.06431994, 2.        ],\n",
       "       [2.07288398, 2.        ],\n",
       "       [2.01077347, 2.        ],\n",
       "       [2.05017137, 2.        ],\n",
       "       [2.02713551, 2.        ],\n",
       "       [2.06888397, 2.        ],\n",
       "       [2.03802838, 2.        ],\n",
       "       [2.0600705 , 2.        ],\n",
       "       [2.06454885, 2.        ],\n",
       "       [2.01233206, 2.        ],\n",
       "       [2.09547391, 2.        ],\n",
       "       [2.01137401, 2.        ],\n",
       "       [2.08985096, 2.        ],\n",
       "       [2.04615289, 2.        ],\n",
       "       [2.091243  , 2.        ],\n",
       "       [2.04764567, 2.        ],\n",
       "       [2.00791403, 2.        ],\n",
       "       [2.09178835, 2.        ],\n",
       "       [2.01599737, 2.        ],\n",
       "       [2.0124177 , 2.        ],\n",
       "       [2.05412372, 2.        ],\n",
       "       [2.06459877, 2.        ],\n",
       "       [2.05933726, 2.        ],\n",
       "       [2.06856159, 2.        ],\n",
       "       [2.00722703, 2.        ],\n",
       "       [2.0069811 , 2.        ],\n",
       "       [2.02861418, 2.        ],\n",
       "       [2.09242964, 2.        ],\n",
       "       [2.08763437, 2.        ],\n",
       "       [2.00334009, 2.        ],\n",
       "       [2.06310317, 2.        ],\n",
       "       [2.08961893, 2.        ],\n",
       "       [2.07517914, 2.        ],\n",
       "       [2.03220444, 2.        ],\n",
       "       [2.09944934, 2.        ],\n",
       "       [2.04953697, 2.        ],\n",
       "       [2.06300459, 2.        ],\n",
       "       [2.04742047, 2.        ],\n",
       "       [2.06959768, 2.        ],\n",
       "       [2.05921141, 2.        ],\n",
       "       [2.07447686, 2.        ],\n",
       "       [2.07836603, 2.        ],\n",
       "       [2.08532619, 2.        ],\n",
       "       [2.04755869, 2.        ],\n",
       "       [2.0972286 , 2.        ],\n",
       "       [2.04760635, 2.        ],\n",
       "       [2.05416552, 2.        ],\n",
       "       [2.05727513, 2.        ],\n",
       "       [2.04238557, 2.        ],\n",
       "       [2.05409805, 2.        ],\n",
       "       [2.00493706, 2.        ],\n",
       "       [2.0186928 , 2.        ],\n",
       "       [2.01717354, 2.        ],\n",
       "       [2.09889618, 2.        ],\n",
       "       [2.01641447, 2.        ],\n",
       "       [2.0650102 , 2.        ]])"
      ]
     },
     "execution_count": 67,
     "metadata": {},
     "output_type": "execute_result"
    }
   ],
   "source": [
    "signal_tot[len(signal_tot)-100:len(signal_tot)-1]"
   ]
  },
  {
   "cell_type": "code",
   "execution_count": null,
   "metadata": {},
   "outputs": [],
   "source": []
  },
  {
   "cell_type": "markdown",
   "metadata": {},
   "source": [
    "For fun, let's try the example from the pivot paper."
   ]
  },
  {
   "cell_type": "code",
   "execution_count": 2,
   "metadata": {},
   "outputs": [],
   "source": [
    "%matplotlib inline\n",
    "import matplotlib.pyplot as plt\n",
    "plt.rcParams[\"figure.figsize\"] = (6,6)\n",
    "plt.rcParams[\"font.size\"] = 16.0\n",
    "\n",
    "import numpy as np\n",
    "np.random.seed = 333"
   ]
  },
  {
   "cell_type": "code",
   "execution_count": 3,
   "metadata": {},
   "outputs": [],
   "source": [
    "from carl.distributions import Mixture, MultivariateNormal, Uniform, Normal\n",
    "\n",
    "p0 = MultivariateNormal(mu=np.array([0., 0.]), sigma=np.array([[1., -0.5], [-0.5, 1.]]))\n",
    "p1 = MultivariateNormal(mu=np.array([1., 1.]), sigma=np.eye(2))\n",
    "pz = Normal(mu=0.0, sigma=1.0)"
   ]
  },
  {
   "cell_type": "code",
   "execution_count": 4,
   "metadata": {},
   "outputs": [],
   "source": [
    "n_samples = 125000\n",
    "\n",
    "X0 = p0.rvs(n_samples // 2)\n",
    "X1 = p1.rvs(n_samples // 2)\n",
    "z = pz.rvs(n_samples).ravel()\n",
    "X1[:, 1] += z[n_samples // 2:]\n",
    "\n",
    "X = np.vstack([X0, X1])\n",
    "y = np.zeros(n_samples)\n",
    "y[n_samples // 2:] = 1"
   ]
  },
  {
   "cell_type": "code",
   "execution_count": 5,
   "metadata": {},
   "outputs": [
    {
     "data": {
      "image/png": "[encoded data removed]",
      "text/plain": [
       "<matplotlib.figure.Figure at 0x1c1c3698d0>"
      ]
     },
     "metadata": {},
     "output_type": "display_data"
    }
   ],
   "source": [
    "plt.title(\"$X$\")\n",
    "plt.scatter(X[y==0, 0], X[y==0, 1], c=\"r\", marker=\"o\", edgecolors=\"none\")\n",
    "plt.scatter(X[y==1, 0], X[y==1, 1], c=\"b\", marker=\"o\", edgecolors=\"none\")\n",
    "plt.xlim(-4, 4)\n",
    "plt.ylim(-4, 4)\n",
    "plt.show()"
   ]
  },
  {
   "cell_type": "code",
   "execution_count": 6,
   "metadata": {},
   "outputs": [
    {
     "name": "stderr",
     "output_type": "stream",
     "text": [
      "/usr/local/anaconda3/lib/python3.6/site-packages/sklearn/cross_validation.py:41: DeprecationWarning: This module was deprecated in version 0.18 in favor of the model_selection module into which all the refactored classes and functions are moved. Also note that the interface of the new CV iterators are different from that of this module. This module will be removed in 0.20.\n",
      "  \"This module will be removed in 0.20.\", DeprecationWarning)\n"
     ]
    }
   ],
   "source": [
    "from sklearn.cross_validation import train_test_split\n",
    "\n",
    "X_train, X_valid, y_train, y_valid, z_train, z_valid = train_test_split(X, y, z, test_size=50000)"
   ]
  },
  {
   "cell_type": "code",
   "execution_count": 7,
   "metadata": {},
   "outputs": [
    {
     "name": "stderr",
     "output_type": "stream",
     "text": [
      "/usr/local/anaconda3/lib/python3.6/site-packages/h5py/__init__.py:36: FutureWarning: Conversion of the second argument of issubdtype from `float` to `np.floating` is deprecated. In future, it will be treated as `np.float64 == np.dtype(float).type`.\n",
      "  from ._conv import register_converters as _register_converters\n",
      "Using TensorFlow backend.\n"
     ]
    },
    {
     "ename": "ImportError",
     "evalue": "cannot import name 'Merge'",
     "output_type": "error",
     "traceback": [
      "\u001b[0;31m---------------------------------------------------------------------------\u001b[0m",
      "\u001b[0;31mImportError\u001b[0m                               Traceback (most recent call last)",
      "\u001b[0;32m<ipython-input-7-f505a65f76e9>\u001b[0m in \u001b[0;36m<module>\u001b[0;34m()\u001b[0m\n\u001b[1;32m      1\u001b[0m \u001b[0;32mimport\u001b[0m \u001b[0mkeras\u001b[0m\u001b[0;34m.\u001b[0m\u001b[0mbackend\u001b[0m \u001b[0;32mas\u001b[0m \u001b[0mK\u001b[0m\u001b[0;34m\u001b[0m\u001b[0m\n\u001b[0;32m----> 2\u001b[0;31m \u001b[0;32mfrom\u001b[0m \u001b[0mkeras\u001b[0m\u001b[0;34m.\u001b[0m\u001b[0mlayers\u001b[0m \u001b[0;32mimport\u001b[0m \u001b[0mInput\u001b[0m\u001b[0;34m,\u001b[0m \u001b[0mDense\u001b[0m\u001b[0;34m,\u001b[0m \u001b[0mMerge\u001b[0m\u001b[0;34m,\u001b[0m \u001b[0mLambda\u001b[0m\u001b[0;34m\u001b[0m\u001b[0m\n\u001b[0m\u001b[1;32m      3\u001b[0m \u001b[0;32mfrom\u001b[0m \u001b[0mkeras\u001b[0m\u001b[0;34m.\u001b[0m\u001b[0mmodels\u001b[0m \u001b[0;32mimport\u001b[0m \u001b[0mModel\u001b[0m\u001b[0;34m\u001b[0m\u001b[0m\n\u001b[1;32m      4\u001b[0m \u001b[0;34m\u001b[0m\u001b[0m\n\u001b[1;32m      5\u001b[0m \u001b[0minputs\u001b[0m \u001b[0;34m=\u001b[0m \u001b[0mInput\u001b[0m\u001b[0;34m(\u001b[0m\u001b[0mshape\u001b[0m\u001b[0;34m=\u001b[0m\u001b[0;34m(\u001b[0m\u001b[0mX\u001b[0m\u001b[0;34m.\u001b[0m\u001b[0mshape\u001b[0m\u001b[0;34m[\u001b[0m\u001b[0;36m1\u001b[0m\u001b[0;34m]\u001b[0m\u001b[0;34m,\u001b[0m\u001b[0;34m)\u001b[0m\u001b[0;34m)\u001b[0m\u001b[0;34m\u001b[0m\u001b[0m\n",
      "\u001b[0;31mImportError\u001b[0m: cannot import name 'Merge'"
     ]
    }
   ],
   "source": [
    "import keras.backend as K\n",
    "from keras.layers import Input, Dense, Merge, Lambda\n",
    "from keras.models import Model\n",
    "\n",
    "inputs = Input(shape=(X.shape[1],))\n",
    "Dx = Dense(20, activation=\"tanh\")(inputs)\n",
    "Dx = Dense(20, activation=\"relu\")(Dx)\n",
    "Dx = Dense(1, activation=\"sigmoid\")(Dx)\n",
    "D = Model(input=[inputs], output=[Dx])\n",
    "\n",
    "n_components = 5\n",
    "Rx = D(inputs)\n",
    "Rx = Dense(20, activation=\"relu\")(Rx)\n",
    "Rx = Dense(20, activation=\"relu\")(Rx)\n",
    "mu = Dense(n_components, activation=\"linear\")(Rx)\n",
    "sigma = Dense(n_components, activation=K.exp)(Rx)\n",
    "pi = Dense(n_components, activation=\"softmax\")(Rx)\n",
    "Rx = Merge(mode=\"concat\")([mu, sigma, pi])\n",
    "\n",
    "R = Model(input=[inputs], output=[Rx])"
   ]
  },
  {
   "cell_type": "code",
   "execution_count": null,
   "metadata": {},
   "outputs": [],
   "source": []
  }
 ],
 "metadata": {
  "kernelspec": {
   "display_name": "Python 3",
   "language": "python",
   "name": "python3"
  },
  "language_info": {
   "codemirror_mode": {
    "name": "ipython",
    "version": 3
   },
   "file_extension": ".py",
   "mimetype": "text/x-python",
   "name": "python",
   "nbconvert_exporter": "python",
   "pygments_lexer": "ipython3",
   "version": "3.6.4"
  }
 },
 "nbformat": 4,
 "nbformat_minor": 2
}
